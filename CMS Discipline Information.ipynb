{
 "nbformat": 4,
 "nbformat_minor": 2,
 "metadata": {
  "language_info": {
   "name": "python",
   "codemirror_mode": {
    "name": "ipython",
    "version": 3
   }
  },
  "orig_nbformat": 2,
  "file_extension": ".py",
  "mimetype": "text/x-python",
  "name": "python",
  "npconvert_exporter": "python",
  "pygments_lexer": "ipython3",
  "version": 3
 },
 "cells": [
  {
   "cell_type": "markdown",
   "execution_count": null,
   "metadata": {},
   "outputs": [],
   "source": [
    "# Is there disporpotionate disciplinary action in CMS?\n",
    "\n",
    "This document strives to explore differences in the treatment of students based on race in the Charlotte Mecklenburg school system. The [Civil Rights Data Collection](https://ocrdata.ed.gov/) has agregated the data used within.\n",
    "\n",
    "This document will use a subset of the data that CRDC has collected and explain how the data is being manipulated. \n",
    "\n",
    "## To begin, we need to import some libraries.\n",
    "\n",
    "This project is written in python and will use the following libraries to make the annalysis process easier:\n",
    "* pandas: used for data manipulation\n",
    "* numpy: handles lots of heavier math opperations\n",
    "* matplotlib: responsible for displaying visualizations"
   ]
  },
  {
   "cell_type": "code",
   "execution_count": 1,
   "metadata": {},
   "outputs": [],
   "source": [
    "import pandas as pd\n",
    "import numpy as np\n",
    "import matplotlib.pyplot as plt"
   ]
  },
  {
   "cell_type": "markdown",
   "execution_count": null,
   "metadata": {},
   "outputs": [],
   "source": [
    "### Reading the data\n",
    "\n",
    "When the data is grabbed from CRDC's website, it is stored in a `.csv` file. CSV stands for Comma Sepperated Values which is very descriptive of how the information is stored. A CSV is essentially a text file with rows of data seperated by commas to form the columns. The program cannot dirrectly manipulate the data in this state, so it must be read into memory. "
   ]
  },
  {
   "cell_type": "code",
   "execution_count": 4,
   "metadata": {},
   "outputs": [
    {
     "data": {
      "text/plain": "(96360, 1836)"
     },
     "execution_count": 4,
     "metadata": {},
     "output_type": "execute_result"
    }
   ],
   "source": [
    "full_data = pd.read_csv('Data Files\\Data Files and Layouts\\CRDC 2015-16 School Data.csv', encoding='windows-1252')\n",
    "full_data.shape"
   ]
  },
  {
   "cell_type": "markdown",
   "execution_count": null,
   "metadata": {},
   "outputs": [],
   "source": [
    "### What we actually have\n",
    "\n",
    "This file is massive. The full dataset has 96,360 rows and 1,836 columns. This is much more than is required for this project since this project is only interested in schools within CMS and only interested in information about discipline disporpotionality. The full data set contains much more data than is wanted here, so much of the data needs to be removed.\n",
    "\n",
    "--This next section of code will select only schools that are in CMS"
   ]
  },
  {
   "cell_type": "code",
   "execution_count": 9,
   "metadata": {},
   "outputs": [
    {
     "name": "stdout",
     "output_type": "stream",
     "text": "LEA_STATE  LEA_STATE_NAME    LEAID                       LEA_NAME  \\\n63467        NC  NORTH CAROLINA  3702970  Charlotte-Mecklenburg Schools   \n63468        NC  NORTH CAROLINA  3702970  Charlotte-Mecklenburg Schools   \n63469        NC  NORTH CAROLINA  3702970  Charlotte-Mecklenburg Schools   \n63470        NC  NORTH CAROLINA  3702970  Charlotte-Mecklenburg Schools   \n63471        NC  NORTH CAROLINA  3702970  Charlotte-Mecklenburg Schools   \n\n       SCHID                       SCH_NAME     COMBOKEY  JJ SCH_GRADE_PS  \\\n63467    614          Lake Wylie Elementary  3.70297e+11  No          Yes   \n63468    632         South Charlotte Middle  3.70297e+11  No           No   \n63469    652  University Meadows Elementary  3.70297e+11  No          Yes   \n63470    682          Irwin Academic Center  3.70297e+11  No           No   \n63471    813         Crown Point Elementary  3.70297e+11  No           No   \n\n      SCH_GRADE_KG  ... SCH_FTESERVICES_PSY SCH_FTESERVICES_SOC SCH_JJTYPE  \\\n63467          Yes  ...                0.34                 0.0         -9   \n63468           No  ...                0.50                 0.0         -9   \n63469          Yes  ...                0.50                 0.0         -9   \n63470          Yes  ...                0.34                 0.0         -9   \n63471          Yes  ...                0.33                 0.0         -9   \n\n      SCH_JJSYDAYS SCH_JJHOURS SCH_JJPART_LT15 SCH_JJPART_15T30  \\\n63467           -9          -9              -9               -9   \n63468           -9          -9              -9               -9   \n63469           -9          -9              -9               -9   \n63470           -9          -9              -9               -9   \n63471           -9          -9              -9               -9   \n\n      SCH_JJPART_31T90 SCH_JJPART_91T180 SCH_JJPART_OV180  \n63467               -9                -9               -9  \n63468               -9                -9               -9  \n63469               -9                -9               -9  \n63470               -9                -9               -9  \n63471               -9                -9               -9  \n\n[5 rows x 1836 columns]\n"
    },
    {
     "data": {
      "text/plain": "(168, 1836)"
     },
     "execution_count": 9,
     "metadata": {},
     "output_type": "execute_result"
    }
   ],
   "source": [
    "cms_schools = full_data[63467:63635]\n",
    "print(cms_schools.head())\n",
    "cms_schools.shape"
   ]
  },
  {
   "cell_type": "markdown",
   "execution_count": null,
   "metadata": {},
   "outputs": [],
   "source": [
    "Now, a list of all of the schools in the CMS district are contained in the varaible `cms_schools`. This subset of the origional data contains 168 schools, all of which are in CMS. From here analysis of this data can be started.\n",
    "\n",
    "### What can be done with visualization?\n",
    "\n",
    "This data set has loads of data, so the sky is the limit. Some posibilities to explore is the demographics of the school district, the divide distribution of enrollement between various grades, and so much more. \n",
    "\n",
    "This first cell will show the break down of total enrollement based on grade."
   ]
  },
  {
   "cell_type": "code",
   "execution_count": null,
   "metadata": {},
   "outputs": [],
   "source": []
  }
 ]
}